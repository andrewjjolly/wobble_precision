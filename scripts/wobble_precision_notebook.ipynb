{
 "cells": [
  {
   "cell_type": "markdown",
   "source": [
    "# Order by Order analysis of RVs of GL667C created by Wobble\n",
    "## June 2021\n"
   ],
   "metadata": {}
  },
  {
   "cell_type": "markdown",
   "source": [
    "### Package Imports"
   ],
   "metadata": {}
  },
  {
   "cell_type": "code",
   "execution_count": 1,
   "source": [
    "from datetime import time\n",
    "import numpy as np\n",
    "from numpy.core.defchararray import upper\n",
    "import pandas as pd\n",
    "import matplotlib.pyplot as plt\n",
    "import pymc3 as pm\n",
    "import pymc3_ext as pmx\n",
    "import aesara_theano_fallback.tensor as tt\n",
    "import arviz as az\n",
    "import os\n",
    "import wobble\n",
    "import exoplanet as xo\n",
    "from astropy.modeling import models, fitting\n",
    "from astropy.timeseries import LombScargle\n",
    "from scipy.optimize import curve_fit"
   ],
   "outputs": [
    {
     "output_type": "stream",
     "name": "stderr",
     "text": [
      "WARNING (theano.tensor.blas): Using NumPy C-API based implementation for BLAS functions.\n",
      "/home/z5345592/anaconda3/envs/py37/lib/python3.7/site-packages/tensorflow/python/framework/dtypes.py:516: FutureWarning: Passing (type, 1) or '1type' as a synonym of type is deprecated; in a future version of numpy, it will be understood as (type, (1,)) / '(1,)type'.\n",
      "  _np_qint8 = np.dtype([(\"qint8\", np.int8, 1)])\n",
      "/home/z5345592/anaconda3/envs/py37/lib/python3.7/site-packages/tensorflow/python/framework/dtypes.py:517: FutureWarning: Passing (type, 1) or '1type' as a synonym of type is deprecated; in a future version of numpy, it will be understood as (type, (1,)) / '(1,)type'.\n",
      "  _np_quint8 = np.dtype([(\"quint8\", np.uint8, 1)])\n",
      "/home/z5345592/anaconda3/envs/py37/lib/python3.7/site-packages/tensorflow/python/framework/dtypes.py:518: FutureWarning: Passing (type, 1) or '1type' as a synonym of type is deprecated; in a future version of numpy, it will be understood as (type, (1,)) / '(1,)type'.\n",
      "  _np_qint16 = np.dtype([(\"qint16\", np.int16, 1)])\n",
      "/home/z5345592/anaconda3/envs/py37/lib/python3.7/site-packages/tensorflow/python/framework/dtypes.py:519: FutureWarning: Passing (type, 1) or '1type' as a synonym of type is deprecated; in a future version of numpy, it will be understood as (type, (1,)) / '(1,)type'.\n",
      "  _np_quint16 = np.dtype([(\"quint16\", np.uint16, 1)])\n",
      "/home/z5345592/anaconda3/envs/py37/lib/python3.7/site-packages/tensorflow/python/framework/dtypes.py:520: FutureWarning: Passing (type, 1) or '1type' as a synonym of type is deprecated; in a future version of numpy, it will be understood as (type, (1,)) / '(1,)type'.\n",
      "  _np_qint32 = np.dtype([(\"qint32\", np.int32, 1)])\n",
      "/home/z5345592/anaconda3/envs/py37/lib/python3.7/site-packages/tensorflow/python/framework/dtypes.py:525: FutureWarning: Passing (type, 1) or '1type' as a synonym of type is deprecated; in a future version of numpy, it will be understood as (type, (1,)) / '(1,)type'.\n",
      "  np_resource = np.dtype([(\"resource\", np.ubyte, 1)])\n",
      "/home/z5345592/anaconda3/envs/py37/lib/python3.7/site-packages/tensorboard/compat/tensorflow_stub/dtypes.py:541: FutureWarning: Passing (type, 1) or '1type' as a synonym of type is deprecated; in a future version of numpy, it will be understood as (type, (1,)) / '(1,)type'.\n",
      "  _np_qint8 = np.dtype([(\"qint8\", np.int8, 1)])\n",
      "/home/z5345592/anaconda3/envs/py37/lib/python3.7/site-packages/tensorboard/compat/tensorflow_stub/dtypes.py:542: FutureWarning: Passing (type, 1) or '1type' as a synonym of type is deprecated; in a future version of numpy, it will be understood as (type, (1,)) / '(1,)type'.\n",
      "  _np_quint8 = np.dtype([(\"quint8\", np.uint8, 1)])\n",
      "/home/z5345592/anaconda3/envs/py37/lib/python3.7/site-packages/tensorboard/compat/tensorflow_stub/dtypes.py:543: FutureWarning: Passing (type, 1) or '1type' as a synonym of type is deprecated; in a future version of numpy, it will be understood as (type, (1,)) / '(1,)type'.\n",
      "  _np_qint16 = np.dtype([(\"qint16\", np.int16, 1)])\n",
      "/home/z5345592/anaconda3/envs/py37/lib/python3.7/site-packages/tensorboard/compat/tensorflow_stub/dtypes.py:544: FutureWarning: Passing (type, 1) or '1type' as a synonym of type is deprecated; in a future version of numpy, it will be understood as (type, (1,)) / '(1,)type'.\n",
      "  _np_quint16 = np.dtype([(\"quint16\", np.uint16, 1)])\n",
      "/home/z5345592/anaconda3/envs/py37/lib/python3.7/site-packages/tensorboard/compat/tensorflow_stub/dtypes.py:545: FutureWarning: Passing (type, 1) or '1type' as a synonym of type is deprecated; in a future version of numpy, it will be understood as (type, (1,)) / '(1,)type'.\n",
      "  _np_qint32 = np.dtype([(\"qint32\", np.int32, 1)])\n",
      "/home/z5345592/anaconda3/envs/py37/lib/python3.7/site-packages/tensorboard/compat/tensorflow_stub/dtypes.py:550: FutureWarning: Passing (type, 1) or '1type' as a synonym of type is deprecated; in a future version of numpy, it will be understood as (type, (1,)) / '(1,)type'.\n",
      "  np_resource = np.dtype([(\"resource\", np.ubyte, 1)])\n"
     ]
    }
   ],
   "metadata": {}
  },
  {
   "cell_type": "code",
   "execution_count": 14,
   "source": [
    "def load_results(results_txt, results_hdf5):\n",
    "    results = results_txt\n",
    "    results = pd.read_csv(results, skiprows=3, delim_whitespace=True)\n",
    "    results_hdf5 = results_hdf5\n",
    "    results_hdf5 = wobble.Results(filename = results_hdf5)\n",
    "    return results, results_hdf5\n",
    "\n",
    "def plot_rvs(times, rvs, rvs_err, star_name):\n",
    "    rvs = rvs - np.median(rvs)\n",
    "    plt.figure()\n",
    "    plt.errorbar(times, rvs, rvs_err, fmt='.k')\n",
    "    plt.title('Combined Orders for {}'.format(star_name))\n",
    "    plt.ylabel('Radial Velocity [ms$^{-1}$]')\n",
    "    plt.xlabel('MJD')\n",
    "\n",
    "def straight_line (x, m, c):\n",
    "    return (m * x) + c\n",
    "\n",
    "def normalise_rvs(rv_data):\n",
    "    normalised_rvs = rv_data - np.median(rv_data)\n",
    "    return normalised_rvs\n",
    "\n",
    "def linear_fit(times, rvs, rvs_err):\n",
    "    popt, pcov = curve_fit(straight_line, times, rvs, sigma = rvs_err)\n",
    "    perr = np.sqrt(np.diag(pcov))\n",
    "    gradient = popt[0]\n",
    "    intercept = popt[1]\n",
    "    gradient_err = perr[0]\n",
    "    intercept_err = perr[1]\n",
    "    return np.array([gradient, intercept, gradient_err, intercept_err])\n",
    "\n",
    "def plot_rvs(times, rvs, rvs_err, star_name):\n",
    "    rvs = normalise_rvs(rvs)\n",
    "    gradient, intercept, gradient_err, intercept_err = linear_fit(times, rvs, rvs_err)\n",
    "    plt.figure()\n",
    "    plt.errorbar(times, rvs, rvs_err, fmt='.k')\n",
    "    plt.plot(times, straight_line(times, gradient, intercept))\n",
    "    plt.title('Combined Orders for {}'.format(star_name))\n",
    "    plt.ylabel('Radial Velocity [ms$^{-1}$]')\n",
    "    plt.xlabel('MJD')\n",
    "\n",
    "def detrend_rvs(times, rvs, rvs_err):\n",
    "    gradient, intercept, gradient_err, intercept_err = linear_fit(times, rvs, rvs_err)\n",
    "    detrended_rvs = [rvs[i] - (straight_line(times, gradient, intercept))[i] for i in range(0, len(times))]\n",
    "    return detrended_rvs, gradient, gradient_err\n",
    "\n",
    "def create_rvs_err_array(results, no_of_orders):\n",
    "    rvs_errs_all_orders = []\n",
    "    for order in range(no_of_orders):\n",
    "        order_rvs_err = np.array(results['RV_order{}_err'.format(order)])\n",
    "        rvs_errs_all_orders.append(order_rvs_err)\n",
    "    rvs_errs_all_orders = np.array(rvs_errs_all_orders)\n",
    "    return rvs_errs_all_orders\n",
    "\n",
    "def nan_to_inf(rvs_err_array):\n",
    "    nan_boolean = np.isnan(rvs_err_array) #creating a boolean mask for the location of the nans in the array\n",
    "    rvs_err_array[nan_boolean] = np.inf #using the mask to turn the nans into infs\n",
    "    return rvs_err_array, nan_boolean\n",
    "\n",
    "def plot_nan_locations(nan_boolean):\n",
    "    plt.figure()\n",
    "    plt.imshow(nan_boolean, cmap='gray_r')\n",
    "    plt.title('Location of NaN in RV errors')\n",
    "    plt.xlabel('Epoch')\n",
    "    plt.ylabel('Order')  \n",
    "    plt.ylim(0,no_of_orders)\n",
    "\n",
    "def create_rvs_array(results, no_of_orders):\n",
    "    rvs_all_orders = []\n",
    "    for order in range(no_of_orders):\n",
    "        order_rvs = np.array(results['RV_order{}'.format(order)])\n",
    "        rvs_all_orders.append(order_rvs)\n",
    "    rvs_all_orders = np.array(rvs_all_orders)\n",
    "    return rvs_all_orders\n",
    "\n",
    "def find_nearest(array, value):\n",
    "    array = np.array(array)\n",
    "    idx = ((np.abs(array - value)).argmin())\n",
    "    return idx\n",
    "\n",
    "def detrend_order_rvs(times, rvs_array, rvs_err_array, no_of_orders, trend, trend_err):\n",
    "    detrended_rvs_all_orders = []\n",
    "    residual_trends = []\n",
    "    residual_trends_err = []\n",
    "    for order in range(no_of_orders):\n",
    "        order_rvs = rvs_array[order, :]\n",
    "        order_rvs_err = rvs_err_array[order, :]\n",
    "        order_rvs_detrended = [order_rvs[i] - (straight_line(times, trend, trend_err))[i] for i in range(0, len(times))]\n",
    "        order_trend, trend_cov = curve_fit(straight_line, times, order_rvs_detrended, sigma = order_rvs_err)\n",
    "        order_trend_err = np.sqrt(np.diag(trend_cov))\n",
    "        detrended_rvs_all_orders.append(order_rvs_detrended)\n",
    "        residual_trends.append(order_trend[0])\n",
    "        residual_trends_err.append(order_trend_err)\n",
    "    detrended_rvs_all_orders = np.array(detrended_rvs_all_orders)\n",
    "    residual_trends = np.array(residual_trends)\n",
    "    residual_trends_err = np.array(residual_trends_err)\n",
    "    print(np.shape(residual_trends))\n",
    "\n",
    "    return detrended_rvs_all_orders, residual_trends, residual_trends_err\n",
    "\n",
    "def sine_wave(x_data, amplitude, phase_shift):\n",
    "    return amplitude * (np.sin((2 * np.pi) * (x_data + phase_shift)))\n",
    "\n",
    "def subtract_periodic_signal(period, times, rvs, rvs_err):\n",
    "    phase_folded = (times / period) % 1\n",
    "    popt, pcov = curve_fit(sine_wave, phase_folded, rvs, sigma = rvs_err)\n",
    "    signal_subtracted = rvs - sine_wave(phase_folded, popt[0], popt[1])\n",
    "\n",
    "    return signal_subtracted\n",
    "\n",
    "def lsp_snr_at_period(times, rvs, rvs_err):\n",
    "    frequency, power = LombScargle(times, rvs, rvs_err).autopower() #assigning the frequency and power from the lsp\n",
    "    period = 1 / frequency #turning frequency into period\n",
    "    noise_b = np.std(power[(period > 6) & (period < 8)])\n",
    "    noise_c = np.std(power[(period > 28) & (period < 30)])\n",
    "    snr_b = power / noise_b\n",
    "    snr_c = power / noise_c\n",
    "    snr_at_b = find_nearest(snr_b, lit_period_b)\n",
    "    snr_at_c = find_nearest(snr_c, lit_period_c)\n",
    "\n",
    "    return snr_at_b, snr_at_c\n",
    "\n",
    "def assign_wavelengths(data, no_of_orders):\n",
    "\n",
    "    wavelengths = []\n",
    "    wavelengths_err = []\n",
    "\n",
    "    for order in range(no_of_orders):\n",
    "        order_wl = (np.exp(np.mean(data.xs[order][0]))/10)\n",
    "        order_wl_err = (np.exp(np.std(data.xs[order][0]))/10)\n",
    "        wavelengths.append(order_wl)\n",
    "        wavelengths_err.append(order_wl_err)\n",
    "\n",
    "    wavelengths = np.array(wavelengths)\n",
    "    wavelengths_err = np.array(wavelengths_err)\n",
    "\n",
    "    return wavelengths, wavelengths_err\n",
    "\n",
    "def load_data(data_filename, good_epochs, bad_orders):\n",
    "    data = wobble.Data(filename=data_filename, epochs=good_epochs)\n",
    "    data.delete_orders(bad_orders) #deletes the bad orders that have been identified in the 'bad orders' list above.\n",
    "    data.drop_bad_orders(min_snr=3) #dropping bad orders\n",
    "    data.drop_bad_epochs(min_snr=3) #dropping bad epochs\n",
    "\n",
    "    return data\n",
    "\n",
    "def count_orders(data):\n",
    "    \n",
    "    no_of_orders = len(data.orders)\n",
    "\n",
    "    return no_of_orders\n",
    "\n",
    "def create_combined_orders(results):\n",
    "    combined_order_rvs = np.array(results['RV'])\n",
    "    combined_order_rvs = normalise_rvs(combined_order_rvs)\n",
    "    combined_order_rvs_err = np.array(results['RV_err'])\n",
    "\n",
    "    return combined_order_rvs, combined_order_rvs_err"
   ],
   "outputs": [],
   "metadata": {}
  },
  {
   "cell_type": "code",
   "execution_count": 3,
   "source": [
    "results, results_hdf5 = load_results('/home/z5345592/projects/gl667c_wobble/results_rvs_lr20.txt', '/home/z5345592/projects/gl667c_wobble/results_no_bad_orders_lr20.hdf5')"
   ],
   "outputs": [
    {
     "output_type": "stream",
     "name": "stdout",
     "text": [
      "Results: reading from /home/z5345592/projects/gl667c_wobble/results_no_bad_orders_lr20.hdf5\n"
     ]
    }
   ],
   "metadata": {}
  },
  {
   "cell_type": "code",
   "execution_count": 4,
   "source": [
    "good_epochs = [ 0,  1,   2,   3,   4,   5,   6,   7,   8,   9,  10,  11,  12,\n",
    "         13,  14,  15,  16,  17,  18,  19,  20,  21,  22,  23,  24,  25,\n",
    "         26,  27,  28,  30,  31,  32,  33,  34,  36,  37,  38,  39,  40,\n",
    "         41,  42,  43,  44,  45,  46,  47,  48,  49,  50,  51,  52,  53,\n",
    "         54,  55,  56,  57,  58,  59,  60,  61,  62,  63,  64,  65,  66,\n",
    "         67,  68,  69,  70,  71,  72,  73,  74,  75,  76,  77,  78,  80,\n",
    "         81,  82,  83,  84,  85,  86,  87,  88,  89,  90,  91,  92,  93,\n",
    "         94,  95,  96,  97,  98,  99, 100, 101, 102, 103, 104, 106, 107,\n",
    "        108, 109, 110, 111, 112, 113, 114, 115, 116, 117, 118, 119, 120,\n",
    "        121, 122, 123, 124, 125, 126, 127, 128, 129, 130, 131, 132, 133,\n",
    "        134, 135, 136, 137, 138, 139, 141, 142, 143, 144, 145, 146, 147,\n",
    "        148, 149, 150, 151, 152, 153, 154, 155, 156, 157, 158, 159, 160,\n",
    "        161, 162, 163, 164, 165, 166, 167, 168, 169, 170, 171, 172, 173,\n",
    "        174, 175, 176]\n",
    "\n",
    "bad_orders = np.array([False, False, False, False, False, False, False, False, False,\n",
    "       False, False, False, False, False, False, False, False, False,\n",
    "       False, False, False, False, False, False,  True, False, False,\n",
    "       False, False, False, False, False, False, False, False, False,\n",
    "       False, False, False, False, False, False, False, False, False,\n",
    "       False, False, False, False, False, False, False, False, False,\n",
    "       False, False, False,  True, False, False, False, False, False,\n",
    "       False,  True,  True, False, False,  True,  True,  True,  True])"
   ],
   "outputs": [],
   "metadata": {}
  },
  {
   "cell_type": "code",
   "execution_count": 15,
   "source": [
    "data = load_data('/home/z5345592/projects/gl667c_wobble/data/gl667c.hdf5', good_epochs, bad_orders)"
   ],
   "outputs": [
    {
     "output_type": "stream",
     "name": "stdout",
     "text": [
      "Data: Dropping orders [0 1 2 3 4 5] because they have average SNR < 3\n"
     ]
    }
   ],
   "metadata": {}
  },
  {
   "cell_type": "code",
   "execution_count": 16,
   "source": [
    "no_of_orders = count_orders(data)"
   ],
   "outputs": [],
   "metadata": {}
  },
  {
   "cell_type": "code",
   "execution_count": 17,
   "source": [
    "wavelengths, wavelengths_err = assign_wavelengths(data, no_of_orders)"
   ],
   "outputs": [],
   "metadata": {}
  },
  {
   "cell_type": "code",
   "execution_count": 27,
   "source": [
    "times = np.array(data.dates) #reassigning dates to times so (I think) the PYMC3 code works better later\n",
    "star_name = 'GL667c (via wobble)' #to differentiate from the pipelines generated by the HARPS pipeline.\n",
    "\n",
    "lit_period_b = 7.2\n",
    "lit_period_c = 28.1\n",
    "\n",
    "lit_amplitude_b = 3.9\n",
    "lit_amplitude_c = 1.7"
   ],
   "outputs": [],
   "metadata": {}
  },
  {
   "cell_type": "code",
   "execution_count": 32,
   "source": [
    "combined_order_rvs = np.array(results['RV'])\n",
    "combined_order_rvs = normalise_rvs(combined_order_rvs)\n",
    "combined_order_rvs_err = np.array(results['RV_err'])\n",
    "\n",
    "rvs_all_orders = create_rvs_array(results, no_of_orders)\n",
    "rvs_all_orders = normalise_rvs(rvs_all_orders)\n",
    "rvs_all_orders_err = create_rvs_err_array(results, no_of_orders)\n",
    "rvs_all_orders_err, rvs_err_nans = nan_to_inf(rvs_all_orders_err)"
   ],
   "outputs": [],
   "metadata": {}
  },
  {
   "cell_type": "code",
   "execution_count": 33,
   "source": [
    "def create_combined_orders(results):\n",
    "    combined_order_rvs = np.array(results['RV'])\n",
    "    combined_order_rvs = normalise_rvs(combined_order_rvs)\n",
    "    combined_order_rvs_err = np.array(results['RV_err'])\n",
    "\n",
    "    return combined_order_rvs, combined_order_rvs_err"
   ],
   "outputs": [],
   "metadata": {}
  },
  {
   "cell_type": "code",
   "execution_count": null,
   "source": [
    "# plot_rvs(times, combined_order_rvs, combined_order_rvs_err, 'GL667C')"
   ],
   "outputs": [],
   "metadata": {}
  },
  {
   "cell_type": "code",
   "execution_count": null,
   "source": [
    "detrended_rvs_combined, combined_rvs_trend, combined_rvs_trend_err = detrend_rvs(times, combined_order_rvs, combined_order_rvs_err)"
   ],
   "outputs": [],
   "metadata": {}
  },
  {
   "cell_type": "code",
   "execution_count": null,
   "source": [
    "plot_rvs(times, detrended_rvs_combined, combined_order_rvs_err, 'GL667C')"
   ],
   "outputs": [],
   "metadata": {}
  },
  {
   "cell_type": "markdown",
   "source": [
    "## Order by Order\n",
    "### Identifying the orders / epochs that have NaN in the RV errors\n",
    "\n",
    "I noticed that some of the RV errors had NaN in, which made fitting for the trend in each difficult. I need to identify the orders and the epochs that these come from, to be able to do further analysis.\n",
    "\n",
    "Below I create an order by epoch boolean array where if the value of RV_err is NaN the element in the array is True.\n",
    "\n",
    "### Replacing the NaN values in the order by order RV_errs with np.inf in order to be able to fit the trend properly.\n",
    "\n",
    "to do this going to slice each order of rvs_err with the boolean mask I created before and assign it to np.inf."
   ],
   "metadata": {}
  },
  {
   "cell_type": "code",
   "execution_count": null,
   "source": [
    "plot_nan_locations(rvs_err_nans)"
   ],
   "outputs": [],
   "metadata": {}
  },
  {
   "cell_type": "code",
   "execution_count": null,
   "source": [
    "detrended_rvs_all_orders, residual_trends, residual_trends_err = detrend_order_rvs(times, rvs_all_orders, rvs_all_orders_err, no_of_orders, rvs_trend, rvs_trend_err)"
   ],
   "outputs": [],
   "metadata": {}
  },
  {
   "cell_type": "markdown",
   "source": [
    "# Subtracting Sine Wave"
   ],
   "metadata": {}
  },
  {
   "cell_type": "code",
   "execution_count": null,
   "source": [
    "rvs_planet_b_removed = subtract_periodic_signal(lit_period_b, times, detrended_rvs_combined, combined_order_rvs_err)\n",
    "rvs_planet_c_removed = subtract_periodic_signal(lit_period_c, times, detrended_rvs_combined, combined_order_rvs_err)\n"
   ],
   "outputs": [],
   "metadata": {}
  },
  {
   "cell_type": "code",
   "execution_count": null,
   "source": [
    "period, snr_b_no_c, snr_c_no_c = lsp_period(times, rvs_planet_c_removed, combined_order_rvs_err)\n",
    "period, snr_b_no_b, snr_c_no_b = lsp_period(times, rvs_planet_b_removed, combined_order_rvs_err)"
   ],
   "outputs": [],
   "metadata": {}
  },
  {
   "cell_type": "code",
   "execution_count": null,
   "source": [
    "snr_at_b_all_orders = []\n",
    "snr_at_c_all_orders = []\n",
    "\n",
    "for order in range(no_of_orders):\n",
    "    rvs_planet_b_removed = subtract_periodic_signal(lit_period_b, times, detrended_rvs_all_orders[order,:], rvs_all_orders_err[order,:])\n",
    "    rvs_planet_c_removed = subtract_periodic_signal(lit_period_c, times, detrended_rvs_all_orders[order,:], rvs_all_orders_err[order,:])\n",
    "    snr_at_b_no_c, snr_at_c_no_c = lsp_snr_at_period(times, rvs_planet_c_removed, rvs_all_orders_err[order,:])\n",
    "    snr_at_b_no_b, snr_at_c_no_b = lsp_snr_at_period(times, rvs_planet_b_removed, rvs_all_orders_err[order,:])\n",
    "    snr_at_b_all_orders.append(snr_at_b_no_c)\n",
    "    snr_at_c_all_orders.append(snr_at_c_no_b)\n",
    "\n",
    "snr_at_b_all_orders = np.array(snr_at_b_all_orders)\n",
    "snr_at_c_all_orders = np.array(snr_at_c_all_orders)"
   ],
   "outputs": [],
   "metadata": {}
  }
 ],
 "metadata": {
  "interpreter": {
   "hash": "e42cc0348417aa91ddc6a1cdb7ea3527b7ca2b5c78f15839e9082e9cb67a5386"
  },
  "kernelspec": {
   "name": "python3",
   "display_name": "Python 3.7.10 64-bit ('py37': conda)"
  },
  "language_info": {
   "codemirror_mode": {
    "name": "ipython",
    "version": 3
   },
   "file_extension": ".py",
   "mimetype": "text/x-python",
   "name": "python",
   "nbconvert_exporter": "python",
   "pygments_lexer": "ipython3",
   "version": "3.7.10"
  }
 },
 "nbformat": 4,
 "nbformat_minor": 2
}